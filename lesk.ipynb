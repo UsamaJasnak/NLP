{
 "cells": [
  {
   "cell_type": "markdown",
   "metadata": {},
   "source": [
    "### Word Sense Disambiguation\n",
    "\n",
    "Word Sense Disambiguation is an important method of NLP by which the meaning of a word is determined, which is used in a particular context. NLP systems often face the challenge of properly identifying words, and determining the specific usage of a word in a particular sentence has many applications.\n",
    "\n",
    "Word Sense Disambiguation basically solves the ambiguity that arises in determining the meaning of the same word used in different situations.\n",
    "\n",
    "\n",
    "The Lesk algorithm is a classical Word Sense Disambiguation algorithm which is based on the idea that words in a given region of the text will have a similar meaning."
   ]
  },
  {
   "cell_type": "code",
   "execution_count": 1,
   "metadata": {},
   "outputs": [],
   "source": [
    "from nltk.wsd import lesk\n",
    "from nltk.tokenize import word_tokenize"
   ]
  },
  {
   "cell_type": "code",
   "execution_count": 2,
   "metadata": {},
   "outputs": [
    {
     "name": "stdout",
     "output_type": "stream",
     "text": [
      "Synset('jamming.n.01') deliberate radiation or reflection of electromagnetic energy for the purpose of disrupting enemy use of electronic devices or systems\n",
      "Synset('jam.v.05') get stuck and immobilized\n"
     ]
    }
   ],
   "source": [
    "a1= lesk(word_tokenize('This device is used to jam the signal'),'jam')\n",
    "print(a1,a1.definition())\n",
    "a2 = lesk(word_tokenize('I am stuck in a traffic jam'),'jam')\n",
    "print(a2,a2.definition())"
   ]
  },
  {
   "cell_type": "code",
   "execution_count": 4,
   "metadata": {},
   "outputs": [
    {
     "name": "stdout",
     "output_type": "stream",
     "text": [
      "Synset('season.v.01') lend flavor to\n",
      "Synset('season.n.01') a period of the year marked by special events or activities in some field\n"
     ]
    }
   ],
   "source": [
    "# testing with some data\n",
    "b1= lesk(word_tokenize('Apply spices to the chicken to season it'),'season')\n",
    "print(b1,b1.definition())\n",
    "\n",
    "b2= lesk(word_tokenize('India receives a lot of rain in the rainy season'),'season')\n",
    "print(b2,b2.definition())"
   ]
  },
  {
   "cell_type": "code",
   "execution_count": null,
   "metadata": {},
   "outputs": [],
   "source": []
  }
 ],
 "metadata": {
  "kernelspec": {
   "display_name": "base",
   "language": "python",
   "name": "python3"
  },
  "language_info": {
   "codemirror_mode": {
    "name": "ipython",
    "version": 3
   },
   "file_extension": ".py",
   "mimetype": "text/x-python",
   "name": "python",
   "nbconvert_exporter": "python",
   "pygments_lexer": "ipython3",
   "version": "3.11.5"
  }
 },
 "nbformat": 4,
 "nbformat_minor": 2
}
